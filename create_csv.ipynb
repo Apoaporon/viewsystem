{
 "cells": [
  {
   "cell_type": "code",
   "execution_count": 1,
   "metadata": {},
   "outputs": [],
   "source": [
    "import numpy as np\n",
    "import pandas as pd\n",
    "import matplotlib.pyplot as plt\n",
    "import japanize_matplotlib\n",
    "import seaborn as sns"
   ]
  },
  {
   "cell_type": "code",
   "execution_count": 2,
   "metadata": {},
   "outputs": [
    {
     "name": "stdout",
     "output_type": "stream",
     "text": [
      "    ep    group  class  rubric  text  edit      time  text_diff  task_text\n",
      "0    1   group1      2      20  1116    14  00:21:21        816        309\n",
      "1    1   group2      2      20  1671    19  00:25:31       1371        348\n",
      "2    1   group3      3      10   784    29  00:34:36        484        521\n",
      "3    1   group4      3      15   670    11  00:21:48        370        618\n",
      "4    1   group5      3      14   748    14  00:23:24        448        237\n",
      "5    1   group6      3      19  1327    26  00:29:03       1027        383\n",
      "6    1   group7      1      25   518    24  00:33:54        218        128\n",
      "7    1   group8      3      10  1223    18  00:29:01        923        445\n",
      "8    1   group9      2       4   361    17  00:24:17         61        537\n",
      "9    1  group10      2      10  1294    12  00:25:18        994        422\n",
      "10   1  group11      3      17   704    14  00:35:21        404        563\n",
      "11   1  group12      3      19  1501    12  00:23:30       1201        245\n",
      "12   1  group13      3      13   907    31  00:34:44        607        658\n",
      "13   1  group14      3      11  1752    62  00:38:23       1452        278\n",
      "14   1  group15      1      25   767    15  00:09:00        467        167\n",
      "15   1  group16      3      25  1410    51  00:25:42       1110        254\n",
      "16   1  group17      2      20   797    20  00:28:19        497        150\n",
      "17   2   group1      2      20   808     7  00:11:22        508        763\n",
      "18   2   group2      3      10  1326    11  00:16:13       1026        309\n",
      "19   2   group3      3      15   879    42  00:40:54        579        348\n",
      "20   2   group4      3      14  3400    40  00:41:10       3100        521\n",
      "21   2   group5      3      19  1019     8  00:17:02        719        618\n",
      "22   2   group6      1      25   737    27  00:19:37        437        237\n",
      "23   2   group7      3      10   447    19  00:19:49        147        383\n",
      "24   2   group8      2       4  1116    24  00:41:52        816        128\n",
      "25   2   group9      2      10  1671    29  00:21:21       1371        445\n",
      "26   2  group10      3      17   784    14  00:25:31        484        537\n",
      "27   2  group11      3      19   670    19  00:34:36        370        422\n",
      "28   2  group12      3      13   748    29  00:21:48        448        563\n",
      "29   2  group13      3      11  1327    11  00:23:24       1027        245\n",
      "30   3   group1      1      25   518    14  00:29:03        218        658\n",
      "31   3   group2      3      25  1223    26  00:33:54        923        278\n",
      "32   3   group3      2      20   361    24  00:29:01         61        167\n",
      "33   3   group4      2      20  1294    18  00:24:17        994        254\n",
      "34   3   group5      3      10   704    17  00:25:18        404        150\n",
      "35   3   group6      3      15  1501    12  00:35:21       1201        763\n",
      "36   3   group7      3      14   907    14  00:23:30        607        309\n",
      "37   3   group8      3      19  1752    12  00:34:44       1452        348\n",
      "38   3   group9      1      25   767    31  00:38:23        467        521\n",
      "39   3  group10      3      10  1410    62  00:09:00       1110        618\n",
      "40   3  group11      2       4   797    15  00:25:42        497        237\n",
      "41   3  group12      2      10   808    51  00:28:19        508        383\n",
      "42   3  group13      3      17  1326    20  00:11:22       1026        128\n",
      "43   3  group14      3      19   879     7  00:16:13        579        445\n"
     ]
    }
   ],
   "source": [
    "df = pd.read_excel(\n",
    "    \"/Users/kawakamitatsuya/Documents/view_system/練習用.xlsx\")\n",
    "\n",
    "print(df)\n",
    "df.to_csv(\"tasktask.csv\")"
   ]
  },
  {
   "cell_type": "code",
   "execution_count": null,
   "metadata": {},
   "outputs": [],
   "source": []
  }
 ],
 "metadata": {
  "kernelspec": {
   "display_name": "Python 3",
   "language": "python",
   "name": "python3"
  },
  "language_info": {
   "codemirror_mode": {
    "name": "ipython",
    "version": 3
   },
   "file_extension": ".py",
   "mimetype": "text/x-python",
   "name": "python",
   "nbconvert_exporter": "python",
   "pygments_lexer": "ipython3",
   "version": "3.7.4"
  }
 },
 "nbformat": 4,
 "nbformat_minor": 2
}
